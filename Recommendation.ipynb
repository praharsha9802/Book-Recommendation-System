{
 "cells": [
  {
   "cell_type": "code",
   "execution_count": 20,
   "metadata": {},
   "outputs": [],
   "source": [
    "import pandas as pd\n",
    "from userProfile import UserProfile"
   ]
  },
  {
   "cell_type": "code",
   "execution_count": 3,
   "metadata": {},
   "outputs": [
    {
     "name": "stdout",
     "output_type": "stream",
     "text": [
      "FIX NA DONE\n"
     ]
    }
   ],
   "source": [
    "userProfileMatrix = UserProfile('finaldset.csv')\n",
    "userProfileMatrix.pivotData()\n",
    "userProfileMatrix.normalizeData()\n",
    "userProfileMatrix.splitTrainAndTest()\n",
    "userProfileMatrix.fixNa()"
   ]
  },
  {
   "cell_type": "code",
   "execution_count": 4,
   "metadata": {},
   "outputs": [
    {
     "name": "stdout",
     "output_type": "stream",
     "text": [
      "------CLUSTERING DONE-----\n"
     ]
    }
   ],
   "source": [
    "labels, model = userProfileMatrix.clusterAnalysis(iterFlag=False, k=25, model='kmeans')"
   ]
  },
  {
   "cell_type": "code",
   "execution_count": 5,
   "metadata": {},
   "outputs": [
    {
     "name": "stdout",
     "output_type": "stream",
     "text": [
      "(34549,)\n",
      "(1, 301)\n",
      "(301, 34549)\n",
      "[['\"A Problem from Hell\": America and the Age of Genocide'\n",
      "  'The Baby Knits Book: The Ultimate Collection of Knitwear Designs for Newborns to 3-Year-Olds'\n",
      "  'The Baby Jesus Butt Plug' ...\n",
      "  'I Sing the Body Electric! & Other Stories'\n",
      "  'I Was a Really Good Mom Before I Had Kids: Reinventing Modern Motherhood'\n",
      "  '美少女戦士セーラームーン新装版 1 [Bishōjo Senshi Sailor Moon Shinsōban 1]']]\n"
     ]
    }
   ],
   "source": [
    "user = userProfileMatrix.getRecommendations(model)"
   ]
  },
  {
   "cell_type": "code",
   "execution_count": 18,
   "metadata": {},
   "outputs": [],
   "source": [
    "data = userProfileMatrix.getTestData(user)"
   ]
  },
  {
   "cell_type": "code",
   "execution_count": 19,
   "metadata": {},
   "outputs": [
    {
     "data": {
      "text/html": [
       "<div>\n",
       "<style scoped>\n",
       "    .dataframe tbody tr th:only-of-type {\n",
       "        vertical-align: middle;\n",
       "    }\n",
       "\n",
       "    .dataframe tbody tr th {\n",
       "        vertical-align: top;\n",
       "    }\n",
       "\n",
       "    .dataframe thead th {\n",
       "        text-align: right;\n",
       "    }\n",
       "</style>\n",
       "<table border=\"1\" class=\"dataframe\">\n",
       "  <thead>\n",
       "    <tr style=\"text-align: right;\">\n",
       "      <th>Name</th>\n",
       "      <th>\"A Problem from Hell\": America and the Age of Genocide</th>\n",
       "      <th>\"A\" Is for Africa</th>\n",
       "      <th>\"B\" Is for Betsy</th>\n",
       "      <th>\"My Teenage Son's Goal In Life Is To Make Me Feel 3,500 Years Old\" and Other Thoughts On Parenting From Dave Barry</th>\n",
       "      <th>\"Surely You're Joking, Mr. Feynman!\": Adventures of a Curious Character</th>\n",
       "      <th>\"Sweat\"</th>\n",
       "      <th>\"The Greatest Invention In The History Of Mankind Is Beer\" And Other Manly Insights From Dave Barry</th>\n",
       "      <th>\"The Sayings of Poor Richard\": The Prefaces, Proverbs, And Poems Of Benjamin Franklin, Originally Printed In Poor Richard's Almanacs For 1773 1758</th>\n",
       "      <th>\"Why Are All The Black Kids Sitting Together in the Cafeteria?\": A Psychologist Explains the Development of Racial Identity</th>\n",
       "      <th>\"Why Do I Love These People?\": Understanding, Surviving, and Creating Your Own Family</th>\n",
       "      <th>...</th>\n",
       "      <th>معمای هویدا</th>\n",
       "      <th>مکبث</th>\n",
       "      <th>ناطور دشت</th>\n",
       "      <th>ویکنت دونیم شده</th>\n",
       "      <th>يک دسته گل بنفشه</th>\n",
       "      <th>پاسخ به تاریخ</th>\n",
       "      <th>کرگدن</th>\n",
       "      <th>یی چینگ، کتاب تقدیرات</th>\n",
       "      <th>焼きたて!!ジャぱん 1</th>\n",
       "      <th>美少女戦士セーラームーン新装版 1 [Bishōjo Senshi Sailor Moon Shinsōban 1]</th>\n",
       "    </tr>\n",
       "    <tr>\n",
       "      <th>ID</th>\n",
       "      <th></th>\n",
       "      <th></th>\n",
       "      <th></th>\n",
       "      <th></th>\n",
       "      <th></th>\n",
       "      <th></th>\n",
       "      <th></th>\n",
       "      <th></th>\n",
       "      <th></th>\n",
       "      <th></th>\n",
       "      <th></th>\n",
       "      <th></th>\n",
       "      <th></th>\n",
       "      <th></th>\n",
       "      <th></th>\n",
       "      <th></th>\n",
       "      <th></th>\n",
       "      <th></th>\n",
       "      <th></th>\n",
       "      <th></th>\n",
       "      <th></th>\n",
       "    </tr>\n",
       "  </thead>\n",
       "  <tbody>\n",
       "    <tr>\n",
       "      <th>3607</th>\n",
       "      <td>NaN</td>\n",
       "      <td>NaN</td>\n",
       "      <td>NaN</td>\n",
       "      <td>NaN</td>\n",
       "      <td>NaN</td>\n",
       "      <td>NaN</td>\n",
       "      <td>NaN</td>\n",
       "      <td>NaN</td>\n",
       "      <td>NaN</td>\n",
       "      <td>NaN</td>\n",
       "      <td>...</td>\n",
       "      <td>NaN</td>\n",
       "      <td>NaN</td>\n",
       "      <td>NaN</td>\n",
       "      <td>NaN</td>\n",
       "      <td>NaN</td>\n",
       "      <td>NaN</td>\n",
       "      <td>NaN</td>\n",
       "      <td>NaN</td>\n",
       "      <td>NaN</td>\n",
       "      <td>NaN</td>\n",
       "    </tr>\n",
       "  </tbody>\n",
       "</table>\n",
       "<p>1 rows × 34549 columns</p>\n",
       "</div>"
      ],
      "text/plain": [
       "Name  \"A Problem from Hell\": America and the Age of Genocide  \\\n",
       "ID                                                             \n",
       "3607                                                NaN        \n",
       "\n",
       "Name  \"A\" Is for Africa  \"B\" Is for Betsy  \\\n",
       "ID                                          \n",
       "3607                NaN               NaN   \n",
       "\n",
       "Name  \"My Teenage Son's Goal In Life Is To Make Me Feel 3,500 Years Old\" and Other Thoughts On Parenting From Dave Barry  \\\n",
       "ID                                                                                                                         \n",
       "3607                                                NaN                                                                    \n",
       "\n",
       "Name  \"Surely You're Joking, Mr. Feynman!\": Adventures of a Curious Character  \\\n",
       "ID                                                                              \n",
       "3607                                                NaN                         \n",
       "\n",
       "Name  \"Sweat\"  \\\n",
       "ID              \n",
       "3607      NaN   \n",
       "\n",
       "Name  \"The Greatest Invention In The History Of Mankind Is Beer\" And Other Manly Insights From Dave Barry  \\\n",
       "ID                                                                                                          \n",
       "3607                                                NaN                                                     \n",
       "\n",
       "Name  \"The Sayings of Poor Richard\": The Prefaces, Proverbs, And Poems Of Benjamin Franklin, Originally Printed In Poor Richard's Almanacs For 1773 1758  \\\n",
       "ID                                                                                                                                                         \n",
       "3607                                                NaN                                                                                                    \n",
       "\n",
       "Name  \"Why Are All The Black Kids Sitting Together in the Cafeteria?\": A Psychologist Explains the Development of Racial Identity  \\\n",
       "ID                                                                                                                                  \n",
       "3607                                                NaN                                                                             \n",
       "\n",
       "Name  \"Why Do I Love These People?\": Understanding, Surviving, and Creating Your Own Family  \\\n",
       "ID                                                                                            \n",
       "3607                                                NaN                                       \n",
       "\n",
       "Name  ...  معمای هویدا  مکبث  ناطور دشت  ویکنت دونیم شده  يک دسته گل بنفشه  \\\n",
       "ID    ...                                                                    \n",
       "3607  ...          NaN   NaN        NaN              NaN               NaN   \n",
       "\n",
       "Name  پاسخ به تاریخ  کرگدن  یی چینگ، کتاب تقدیرات  焼きたて!!ジャぱん 1  \\\n",
       "ID                                                                \n",
       "3607            NaN    NaN                    NaN           NaN   \n",
       "\n",
       "Name  美少女戦士セーラームーン新装版 1 [Bishōjo Senshi Sailor Moon Shinsōban 1]  \n",
       "ID                                                                \n",
       "3607                                                NaN           \n",
       "\n",
       "[1 rows x 34549 columns]"
      ]
     },
     "execution_count": 19,
     "metadata": {},
     "output_type": "execute_result"
    }
   ],
   "source": [
    "data[data != -5.0]"
   ]
  },
  {
   "cell_type": "code",
   "execution_count": 25,
   "metadata": {},
   "outputs": [
    {
     "name": "stdout",
     "output_type": "stream",
     "text": [
      "        Unnamed: 0    ID                                               Name  \\\n",
      "135            135  3607                                   The Glass Castle   \n",
      "6794          6794  3607                                  She's Come Undone   \n",
      "6953          6953  3607                                  She's Come Undone   \n",
      "6954          6954  3607                                  She's Come Undone   \n",
      "7072          7072  3607                                  She's Come Undone   \n",
      "17264        17264  3607                                Water for Elephants   \n",
      "18130        18130  3607                              Running with Scissors   \n",
      "18636        18636  3607                                 Peace Like a River   \n",
      "19245        19245  3607                       The Memory Keeper's Daughter   \n",
      "23113        23113  3607                                 My Sister's Keeper   \n",
      "32094        32094  3607                       The Dive from Clausen's Pier   \n",
      "35914        35914  3607                                 The Secret History   \n",
      "36364        36364  3607                                       The Red Tent   \n",
      "42656        42656  3607                                           The Pact   \n",
      "49703        49703  3607                                                Dry   \n",
      "55422        55422  3607                                   The Rule of Four   \n",
      "55449        55449  3607                                   The Rule of Four   \n",
      "60846        60846  3607    Julie and Julia: My Year of Cooking Dangerously   \n",
      "65252        65252  3607                           The Tender Bar: A Memoir   \n",
      "67627        67627  3607  I Feel Bad About My Neck: And Other Thoughts o...   \n",
      "67672        67672  3607        Tender at the Bone: Growing Up at the Table   \n",
      "70089        70089  3607  Garlic and Sapphires: The Secret Life of a Cri...   \n",
      "72388        72388  3607                     The Devil in the Junior League   \n",
      "75127        75127  3607                                   The Tenth Circle   \n",
      "75144        75144  3607                                      Keeping Faith   \n",
      "77746        77746  3607                                     Vanishing Acts   \n",
      "79405        79405  3607  Heat: An Amateur's Adventures as Kitchen Slave...   \n",
      "79414        79414  3607  Comfort Me with Apples: More Adventures at the...   \n",
      "83557        83557  3607  What Remains: A Memoir of Fate, Friendship, an...   \n",
      "87275        87275  3607                                Memoirs of a Geisha   \n",
      "88699        88699  3607                                    The Kite Runner   \n",
      "97380        97380  3607                                  The Little Friend   \n",
      "138183      138183  3607                                     Expecting Adam   \n",
      "\n",
      "                   Authors        ISBN  pagesNumber  averageRating  \\\n",
      "135        Jeannette Walls  1844081826        341.0           4.27   \n",
      "6794            Wally Lamb  0671003755        465.0           3.88   \n",
      "6953            Wally Lamb  0671021001        465.0           3.88   \n",
      "6954            Wally Lamb  0671021001        465.0           3.88   \n",
      "7072            Wally Lamb  0671014730        465.0           3.88   \n",
      "17264           Sara Gruen  0786290277        563.0           4.09   \n",
      "18130   Augusten Burroughs  1843544857        320.0           3.72   \n",
      "18636           Leif Enger  0802139256        312.0           4.00   \n",
      "19245          Kim Edwards  0786276924        712.0           3.67   \n",
      "23113         Jodi Picoult  0743486196        712.0           4.07   \n",
      "32094           Ann Packer  0786247339        568.0           3.42   \n",
      "35914          Donna Tartt  0141023643        658.0           4.10   \n",
      "36364        Anita Diamant  1568958978        424.0           4.18   \n",
      "42656         Jodi Picoult  0061150142        512.0           4.01   \n",
      "49703   Augusten Burroughs  1843541858        295.0           4.03   \n",
      "55422         Ian Caldwell  0440241359        450.0           3.23   \n",
      "55449         Ian Caldwell  0440296404        450.0           3.24   \n",
      "60846         Julie Powell  0316013269        307.0           3.71   \n",
      "65252      J.R. Moehringer  0786281189        752.0           3.96   \n",
      "67627          Nora Ephron  0307264556        137.0           3.69   \n",
      "67672          Ruth Reichl  0783803656        371.0           4.07   \n",
      "70089          Ruth Reichl  0375435468        528.0           3.93   \n",
      "72388    Linda Francis Lee  0312354975        352.0           3.62   \n",
      "75127         Jodi Picoult  074349671X        416.0           3.50   \n",
      "75144         Jimmy Carter  0553345710        640.0           3.84   \n",
      "77746         Jodi Picoult  141654934X        526.0           3.70   \n",
      "79405          Bill Buford  022407184X        318.0           3.90   \n",
      "79414          Ruth Reichl  0375507043        320.0           4.04   \n",
      "83557     Carole Radziwill  0786283831        448.0           4.18   \n",
      "87275        Arthur Golden  0783801459        698.0           4.12   \n",
      "88699      Khaled Hosseini  0385665202        400.0           4.30   \n",
      "97380          Donna Tartt  1400031699        624.0           3.46   \n",
      "138183      Martha N. Beck  0749921900        328.0           3.83   \n",
      "\n",
      "                                                   genres  userRating  \n",
      "135     Nonfiction Autobiography Memoir Biography Biog...           4  \n",
      "6794    Fiction Contemporary Womens Fiction Chick Lit ...           3  \n",
      "6953    Fiction Contemporary Womens Fiction Chick Lit ...           3  \n",
      "6954    Fiction Contemporary Womens Fiction Chick Lit ...           3  \n",
      "7072    Fiction Contemporary Womens Fiction Chick Lit ...           3  \n",
      "17264   Fiction Historical Historical Fiction Romance ...           5  \n",
      "18130   Autobiography Memoir Nonfiction Biography Humo...           4  \n",
      "18636   Fiction Historical Historical Fiction Book Clu...           5  \n",
      "19245   Fiction Contemporary Adult Fiction Adult Histo...           4  \n",
      "23113   Fiction Contemporary Womens Fiction Chick Lit ...           5  \n",
      "32094   Fiction Contemporary Womens Fiction Chick Lit ...           4  \n",
      "35914   Fiction Mystery Contemporary Literary Fiction ...           5  \n",
      "36364   Historical Historical Fiction Fiction Historic...           5  \n",
      "42656   Fiction Romance Contemporary Womens Fiction Ch...           3  \n",
      "49703   Autobiography Memoir Nonfiction Biography Humo...           4  \n",
      "55422   Fiction Mystery Thriller Historical Historical...           4  \n",
      "55449   Fiction Mystery Thriller Historical Historical...           4  \n",
      "60846   Nonfiction Autobiography Memoir Food and Drink...           4  \n",
      "65252   Autobiography Memoir Nonfiction Biography Biog...           4  \n",
      "67627   Nonfiction Humor Autobiography Memoir Writing ...           4  \n",
      "67672   Food and Drink Food Autobiography Memoir Nonfi...           4  \n",
      "70089   Nonfiction Food and Drink Food Autobiography M...           4  \n",
      "72388   Womens Fiction Chick Lit Fiction Humor Romance...           3  \n",
      "75127   Fiction Contemporary Womens Fiction Chick Lit ...           3  \n",
      "75144   Politics Biography History Politics Presidents...           4  \n",
      "77746   Fiction Womens Fiction Chick Lit Contemporary ...           4  \n",
      "79405   Food and Drink Food Nonfiction Autobiography M...           3  \n",
      "79414   Food and Drink Food Autobiography Memoir Nonfi...           4  \n",
      "83557   Autobiography Memoir Nonfiction Biography Biog...           3  \n",
      "87275   Fiction Historical Historical Fiction Romance ...           4  \n",
      "88699   Fiction Historical Historical Fiction Contempo...           5  \n",
      "97380   Fiction Mystery Literary Fiction Contemporary ...           3  \n",
      "138183  Autobiography Memoir Nonfiction Biography Pare...           5  \n"
     ]
    }
   ],
   "source": [
    "df = pd.read_csv(\"finaldset.csv\")\n",
    "print(df.loc[df[\"ID\"] == 3607])"
   ]
  },
  {
   "cell_type": "code",
   "execution_count": 31,
   "metadata": {},
   "outputs": [
    {
     "name": "stdout",
     "output_type": "stream",
     "text": [
      "       Unnamed: 0    ID                      Name              Authors  \\\n",
      "86721       86721  5954  The Baby Jesus Butt Plug  Carlton Mellick III   \n",
      "\n",
      "             ISBN  pagesNumber  averageRating  \\\n",
      "86721  0972959823         96.0           3.55   \n",
      "\n",
      "                                                  genres  userRating  \n",
      "86721  Horror Bizarro Fiction Fiction Horror Humor Sc...           1  \n"
     ]
    }
   ],
   "source": [
    "print(df.loc[df[\"Name\"] == \"The Baby Jesus Butt Plug\"])"
   ]
  },
  {
   "cell_type": "code",
   "execution_count": null,
   "metadata": {},
   "outputs": [],
   "source": []
  }
 ],
 "metadata": {
  "kernelspec": {
   "display_name": "Python 3",
   "language": "python",
   "name": "python3"
  },
  "language_info": {
   "codemirror_mode": {
    "name": "ipython",
    "version": 3
   },
   "file_extension": ".py",
   "mimetype": "text/x-python",
   "name": "python",
   "nbconvert_exporter": "python",
   "pygments_lexer": "ipython3",
   "version": "3.7.7"
  }
 },
 "nbformat": 4,
 "nbformat_minor": 4
}
